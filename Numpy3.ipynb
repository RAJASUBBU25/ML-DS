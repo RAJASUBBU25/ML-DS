{
  "nbformat": 4,
  "nbformat_minor": 0,
  "metadata": {
    "colab": {
      "provenance": []
    },
    "kernelspec": {
      "name": "python3",
      "display_name": "Python 3"
    },
    "language_info": {
      "name": "python"
    }
  },
  "cells": [
    {
      "cell_type": "code",
      "execution_count": 6,
      "metadata": {
        "colab": {
          "base_uri": "https://localhost:8080/"
        },
        "id": "YOMZouCyfYTe",
        "outputId": "820ddacd-a02d-43c3-96ed-2bcf7090357d"
      },
      "outputs": [
        {
          "output_type": "stream",
          "name": "stdout",
          "text": [
            "[[ 2.  4. 55.  6.  7.  8.  9. 23. 54. 57. 43. 45.]\n",
            " [57. 89.  3.  5.  7.  0.  1.  5.  7. 89. 24. 78.]\n",
            " [ 4.  4.  7.  9. 60. 24.  1.  2.  3.  4.  5.  6.]]\n"
          ]
        }
      ],
      "source": [
        "import numpy as np\n",
        "\n",
        "filedata = np.genfromtxt('data.txt', delimiter=',')\n",
        "print(filedata)\n"
      ]
    },
    {
      "cell_type": "code",
      "source": [
        "#to specify type\n",
        "filedata = filedata.astype('int32')\n",
        "print(filedata)"
      ],
      "metadata": {
        "colab": {
          "base_uri": "https://localhost:8080/"
        },
        "id": "YbAh7k7-fg0p",
        "outputId": "9e967d5e-81e7-4547-bdfd-79dbeeccc229"
      },
      "execution_count": 10,
      "outputs": [
        {
          "output_type": "stream",
          "name": "stdout",
          "text": [
            "[[ 2  4 55  6  7  8  9 23 54 57 43 45]\n",
            " [57 89  3  5  7  0  1  5  7 89 24 78]\n",
            " [ 4  4  7  9 60 24  1  2  3  4  5  6]]\n"
          ]
        }
      ]
    },
    {
      "cell_type": "code",
      "source": [
        "#Boolean masking and Advanced indexing\n",
        "\n",
        "#Condition for all elements\n",
        "filedata > 50"
      ],
      "metadata": {
        "colab": {
          "base_uri": "https://localhost:8080/"
        },
        "id": "68eQtMcggkCD",
        "outputId": "7bc4fa85-5a3f-48d1-8778-cea4be4b3110"
      },
      "execution_count": 12,
      "outputs": [
        {
          "output_type": "execute_result",
          "data": {
            "text/plain": [
              "array([[False, False,  True, False, False, False, False, False,  True,\n",
              "         True, False, False],\n",
              "       [ True,  True, False, False, False, False, False, False, False,\n",
              "         True, False,  True],\n",
              "       [False, False, False, False,  True, False, False, False, False,\n",
              "        False, False, False]])"
            ]
          },
          "metadata": {},
          "execution_count": 12
        }
      ]
    },
    {
      "cell_type": "code",
      "source": [
        "#Finding index for condition\n",
        "filedata[filedata > 50]"
      ],
      "metadata": {
        "colab": {
          "base_uri": "https://localhost:8080/"
        },
        "id": "55CLhwV0grXV",
        "outputId": "b59841b5-a0cf-44d3-888f-011b2c0cfd0a"
      },
      "execution_count": 13,
      "outputs": [
        {
          "output_type": "execute_result",
          "data": {
            "text/plain": [
              "array([55, 54, 57, 57, 89, 89, 78, 60], dtype=int32)"
            ]
          },
          "metadata": {},
          "execution_count": 13
        }
      ]
    },
    {
      "cell_type": "code",
      "source": [
        "#You can index with alist in numpy\n",
        "a = np.array([1,2,3,4,5,6,7,8,9])\n",
        "a[[1,2,8]]"
      ],
      "metadata": {
        "colab": {
          "base_uri": "https://localhost:8080/"
        },
        "id": "9mBpbCoig3tP",
        "outputId": "3fbdde46-9021-45a9-8d2d-40ebd82a1451"
      },
      "execution_count": 16,
      "outputs": [
        {
          "output_type": "execute_result",
          "data": {
            "text/plain": [
              "array([2, 3, 9])"
            ]
          },
          "metadata": {},
          "execution_count": 16
        }
      ]
    },
    {
      "cell_type": "code",
      "source": [
        "#axis=0 means columns\n",
        "#axis=1 means rows\n",
        "\n",
        "#Coditon for columns(For atleast one element)\n",
        "np.any(filedata > 50, axis = 0)\n"
      ],
      "metadata": {
        "colab": {
          "base_uri": "https://localhost:8080/"
        },
        "id": "HSzGKX34hHhG",
        "outputId": "d1344c8f-d719-4f92-a15e-a7ad0cb00d83"
      },
      "execution_count": 18,
      "outputs": [
        {
          "output_type": "execute_result",
          "data": {
            "text/plain": [
              "array([ True,  True,  True, False,  True, False, False, False,  True,\n",
              "        True, False,  True])"
            ]
          },
          "metadata": {},
          "execution_count": 18
        }
      ]
    },
    {
      "cell_type": "code",
      "source": [
        "#Condition for all elements\n",
        "np.all(filedata > 50, axis = 0)\n"
      ],
      "metadata": {
        "colab": {
          "base_uri": "https://localhost:8080/"
        },
        "id": "2c7Bbg9-hrPw",
        "outputId": "c01a8d25-50f2-49c9-d5fa-e5b801b42ba0"
      },
      "execution_count": 19,
      "outputs": [
        {
          "output_type": "execute_result",
          "data": {
            "text/plain": [
              "array([False, False, False, False, False, False, False, False, False,\n",
              "       False, False, False])"
            ]
          },
          "metadata": {},
          "execution_count": 19
        }
      ]
    },
    {
      "cell_type": "code",
      "source": [
        "((filedata > 50) & (filedata < 100))"
      ],
      "metadata": {
        "colab": {
          "base_uri": "https://localhost:8080/"
        },
        "id": "hD6fRQkYh4wy",
        "outputId": "7ae2e629-760b-46c7-baac-4b52cdfc1d80"
      },
      "execution_count": 21,
      "outputs": [
        {
          "output_type": "execute_result",
          "data": {
            "text/plain": [
              "array([[False, False,  True, False, False, False, False, False,  True,\n",
              "         True, False, False],\n",
              "       [ True,  True, False, False, False, False, False, False, False,\n",
              "         True, False,  True],\n",
              "       [False, False, False, False,  True, False, False, False, False,\n",
              "        False, False, False]])"
            ]
          },
          "metadata": {},
          "execution_count": 21
        }
      ]
    },
    {
      "cell_type": "code",
      "source": [
        "#Negation of previous condition\n",
        "\n",
        "(~(filedata > 50) & (filedata < 100))"
      ],
      "metadata": {
        "colab": {
          "base_uri": "https://localhost:8080/"
        },
        "id": "nIWGTB82iVL1",
        "outputId": "0df39c3e-cc82-431e-c63d-73f88cb0ce34"
      },
      "execution_count": 22,
      "outputs": [
        {
          "output_type": "execute_result",
          "data": {
            "text/plain": [
              "array([[ True,  True, False,  True,  True,  True,  True,  True, False,\n",
              "        False,  True,  True],\n",
              "       [False, False,  True,  True,  True,  True,  True,  True,  True,\n",
              "        False,  True, False],\n",
              "       [ True,  True,  True,  True, False,  True,  True,  True,  True,\n",
              "         True,  True,  True]])"
            ]
          },
          "metadata": {},
          "execution_count": 22
        }
      ]
    },
    {
      "cell_type": "code",
      "source": [
        "#indexing in numpy is differnt**\n",
        "\n",
        "a = np.array([[1,2,3,4,5],[6,7,8,9,10],[11,12,13,14,15],[16,17,18,19,20],[21,22,23,24,25],[26,27,28,29,30]])\n",
        "print(a)"
      ],
      "metadata": {
        "colab": {
          "base_uri": "https://localhost:8080/"
        },
        "id": "yd3cKfBOilHr",
        "outputId": "321932ec-bfa2-49f9-e968-1c677f01a45c"
      },
      "execution_count": 23,
      "outputs": [
        {
          "output_type": "stream",
          "name": "stdout",
          "text": [
            "[[ 1  2  3  4  5]\n",
            " [ 6  7  8  9 10]\n",
            " [11 12 13 14 15]\n",
            " [16 17 18 19 20]\n",
            " [21 22 23 24 25]\n",
            " [26 27 28 29 30]]\n"
          ]
        }
      ]
    },
    {
      "cell_type": "code",
      "source": [
        "#Indexing(index:actual_number)\n",
        "a[2:4, 0:2]"
      ],
      "metadata": {
        "colab": {
          "base_uri": "https://localhost:8080/"
        },
        "id": "YAX0N50JjbYL",
        "outputId": "81178360-3a36-4362-994f-62ab6c04e834"
      },
      "execution_count": 24,
      "outputs": [
        {
          "output_type": "execute_result",
          "data": {
            "text/plain": [
              "array([[11, 12],\n",
              "       [16, 17]])"
            ]
          },
          "metadata": {},
          "execution_count": 24
        }
      ]
    },
    {
      "cell_type": "code",
      "source": [
        "a[[0,1,2,3],[1,2,3,4]]"
      ],
      "metadata": {
        "colab": {
          "base_uri": "https://localhost:8080/"
        },
        "id": "kYpSy5PfjfCF",
        "outputId": "1b0c9b14-71d8-4bba-9dd5-74534aa20d52"
      },
      "execution_count": 25,
      "outputs": [
        {
          "output_type": "execute_result",
          "data": {
            "text/plain": [
              "array([ 2,  8, 14, 20])"
            ]
          },
          "metadata": {},
          "execution_count": 25
        }
      ]
    },
    {
      "cell_type": "code",
      "source": [
        "a[[0,4,5], 3:]"
      ],
      "metadata": {
        "colab": {
          "base_uri": "https://localhost:8080/"
        },
        "id": "s0UKMTP8jwyb",
        "outputId": "d0d69372-a01b-46e1-8304-66be17238b3d"
      },
      "execution_count": 26,
      "outputs": [
        {
          "output_type": "execute_result",
          "data": {
            "text/plain": [
              "array([[ 4,  5],\n",
              "       [24, 25],\n",
              "       [29, 30]])"
            ]
          },
          "metadata": {},
          "execution_count": 26
        }
      ]
    },
    {
      "cell_type": "code",
      "source": [
        "# 3: means from 3 to last column\n",
        "#We can also use 3:5\n"
      ],
      "metadata": {
        "id": "_ls8KpqCj1RR"
      },
      "execution_count": null,
      "outputs": []
    }
  ]
}